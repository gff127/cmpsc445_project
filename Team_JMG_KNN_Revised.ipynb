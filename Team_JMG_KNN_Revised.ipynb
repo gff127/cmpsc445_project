{
 "cells": [
  {
   "cell_type": "code",
   "execution_count": 1,
   "id": "8d697596",
   "metadata": {},
   "outputs": [],
   "source": [
    "import numpy as np\n",
    "import pandas as pd"
   ]
  },
  {
   "cell_type": "code",
   "execution_count": 2,
   "id": "0abf48eb",
   "metadata": {},
   "outputs": [],
   "source": [
    "testData = pd.read_csv(r\"C:\\Users\\mitch\\Desktop\\CMPSC445\\GP\\test.csv\")\n",
    "trainData = pd.read_csv(r\"C:\\Users\\mitch\\Desktop\\CMPSC445\\GP\\train.csv\")"
   ]
  },
  {
   "cell_type": "code",
   "execution_count": 3,
   "id": "21c33917",
   "metadata": {},
   "outputs": [
    {
     "data": {
      "text/html": [
       "<div>\n",
       "<style scoped>\n",
       "    .dataframe tbody tr th:only-of-type {\n",
       "        vertical-align: middle;\n",
       "    }\n",
       "\n",
       "    .dataframe tbody tr th {\n",
       "        vertical-align: top;\n",
       "    }\n",
       "\n",
       "    .dataframe thead th {\n",
       "        text-align: right;\n",
       "    }\n",
       "</style>\n",
       "<table border=\"1\" class=\"dataframe\">\n",
       "  <thead>\n",
       "    <tr style=\"text-align: right;\">\n",
       "      <th></th>\n",
       "      <th>Month</th>\n",
       "      <th>Location</th>\n",
       "      <th>MinTemp</th>\n",
       "      <th>MaxTemp</th>\n",
       "      <th>Rainfall</th>\n",
       "      <th>Evaporation</th>\n",
       "      <th>Sunshine</th>\n",
       "      <th>WindGustDir</th>\n",
       "      <th>WindGustSpeed</th>\n",
       "      <th>WindDir9am</th>\n",
       "      <th>WindDir3pm</th>\n",
       "      <th>WindSpeed9am</th>\n",
       "      <th>WindSpeed3pm</th>\n",
       "      <th>Humidity9am</th>\n",
       "      <th>Humidity3pm</th>\n",
       "      <th>Pressure3pm</th>\n",
       "      <th>Cloud9am</th>\n",
       "      <th>Cloud3pm</th>\n",
       "      <th>RainToday</th>\n",
       "      <th>RainTomorrow</th>\n",
       "    </tr>\n",
       "  </thead>\n",
       "  <tbody>\n",
       "    <tr>\n",
       "      <th>0</th>\n",
       "      <td>February</td>\n",
       "      <td>MelbourneAirport</td>\n",
       "      <td>0.625000</td>\n",
       "      <td>0.599244</td>\n",
       "      <td>0.057682</td>\n",
       "      <td>0.048276</td>\n",
       "      <td>0.613793</td>\n",
       "      <td>SSE</td>\n",
       "      <td>0.271318</td>\n",
       "      <td>W</td>\n",
       "      <td>SSE</td>\n",
       "      <td>0.069231</td>\n",
       "      <td>0.229885</td>\n",
       "      <td>0.95</td>\n",
       "      <td>0.54</td>\n",
       "      <td>0.6384</td>\n",
       "      <td>0.888889</td>\n",
       "      <td>0.555556</td>\n",
       "      <td>Yes</td>\n",
       "      <td>No</td>\n",
       "    </tr>\n",
       "    <tr>\n",
       "      <th>1</th>\n",
       "      <td>February</td>\n",
       "      <td>Adelaide</td>\n",
       "      <td>0.606132</td>\n",
       "      <td>0.533081</td>\n",
       "      <td>0.000000</td>\n",
       "      <td>0.037723</td>\n",
       "      <td>0.525852</td>\n",
       "      <td>S</td>\n",
       "      <td>0.271318</td>\n",
       "      <td>S</td>\n",
       "      <td>WSW</td>\n",
       "      <td>0.100000</td>\n",
       "      <td>0.218391</td>\n",
       "      <td>0.59</td>\n",
       "      <td>0.36</td>\n",
       "      <td>0.6176</td>\n",
       "      <td>0.493021</td>\n",
       "      <td>0.500352</td>\n",
       "      <td>No</td>\n",
       "      <td>No</td>\n",
       "    </tr>\n",
       "    <tr>\n",
       "      <th>2</th>\n",
       "      <td>July</td>\n",
       "      <td>Cairns</td>\n",
       "      <td>0.639151</td>\n",
       "      <td>0.555766</td>\n",
       "      <td>0.019946</td>\n",
       "      <td>0.020690</td>\n",
       "      <td>0.420690</td>\n",
       "      <td>SSE</td>\n",
       "      <td>0.372093</td>\n",
       "      <td>SSE</td>\n",
       "      <td>SE</td>\n",
       "      <td>0.200000</td>\n",
       "      <td>0.402299</td>\n",
       "      <td>0.78</td>\n",
       "      <td>0.57</td>\n",
       "      <td>0.6320</td>\n",
       "      <td>0.333333</td>\n",
       "      <td>0.333333</td>\n",
       "      <td>Yes</td>\n",
       "      <td>No</td>\n",
       "    </tr>\n",
       "    <tr>\n",
       "      <th>3</th>\n",
       "      <td>March</td>\n",
       "      <td>Portland</td>\n",
       "      <td>0.521226</td>\n",
       "      <td>0.408318</td>\n",
       "      <td>0.011321</td>\n",
       "      <td>0.008276</td>\n",
       "      <td>0.000000</td>\n",
       "      <td>ESE</td>\n",
       "      <td>0.255814</td>\n",
       "      <td>ESE</td>\n",
       "      <td>ESE</td>\n",
       "      <td>0.130769</td>\n",
       "      <td>0.172414</td>\n",
       "      <td>0.76</td>\n",
       "      <td>0.74</td>\n",
       "      <td>0.6944</td>\n",
       "      <td>0.777778</td>\n",
       "      <td>0.888889</td>\n",
       "      <td>Yes</td>\n",
       "      <td>Yes</td>\n",
       "    </tr>\n",
       "    <tr>\n",
       "      <th>4</th>\n",
       "      <td>January</td>\n",
       "      <td>Walpole</td>\n",
       "      <td>0.587264</td>\n",
       "      <td>0.466919</td>\n",
       "      <td>0.000000</td>\n",
       "      <td>0.037723</td>\n",
       "      <td>0.525852</td>\n",
       "      <td>SE</td>\n",
       "      <td>0.294574</td>\n",
       "      <td>SE</td>\n",
       "      <td>SE</td>\n",
       "      <td>0.146154</td>\n",
       "      <td>0.344828</td>\n",
       "      <td>0.78</td>\n",
       "      <td>0.70</td>\n",
       "      <td>0.6688</td>\n",
       "      <td>0.493021</td>\n",
       "      <td>0.500352</td>\n",
       "      <td>No</td>\n",
       "      <td>No</td>\n",
       "    </tr>\n",
       "  </tbody>\n",
       "</table>\n",
       "</div>"
      ],
      "text/plain": [
       "      Month          Location   MinTemp   MaxTemp  Rainfall  Evaporation  \\\n",
       "0  February  MelbourneAirport  0.625000  0.599244  0.057682     0.048276   \n",
       "1  February          Adelaide  0.606132  0.533081  0.000000     0.037723   \n",
       "2      July            Cairns  0.639151  0.555766  0.019946     0.020690   \n",
       "3     March          Portland  0.521226  0.408318  0.011321     0.008276   \n",
       "4   January           Walpole  0.587264  0.466919  0.000000     0.037723   \n",
       "\n",
       "   Sunshine WindGustDir  WindGustSpeed WindDir9am WindDir3pm  WindSpeed9am  \\\n",
       "0  0.613793         SSE       0.271318          W        SSE      0.069231   \n",
       "1  0.525852           S       0.271318          S        WSW      0.100000   \n",
       "2  0.420690         SSE       0.372093        SSE         SE      0.200000   \n",
       "3  0.000000         ESE       0.255814        ESE        ESE      0.130769   \n",
       "4  0.525852          SE       0.294574         SE         SE      0.146154   \n",
       "\n",
       "   WindSpeed3pm  Humidity9am  Humidity3pm  Pressure3pm  Cloud9am  Cloud3pm  \\\n",
       "0      0.229885         0.95         0.54       0.6384  0.888889  0.555556   \n",
       "1      0.218391         0.59         0.36       0.6176  0.493021  0.500352   \n",
       "2      0.402299         0.78         0.57       0.6320  0.333333  0.333333   \n",
       "3      0.172414         0.76         0.74       0.6944  0.777778  0.888889   \n",
       "4      0.344828         0.78         0.70       0.6688  0.493021  0.500352   \n",
       "\n",
       "  RainToday RainTomorrow  \n",
       "0       Yes           No  \n",
       "1        No           No  \n",
       "2       Yes           No  \n",
       "3       Yes          Yes  \n",
       "4        No           No  "
      ]
     },
     "execution_count": 3,
     "metadata": {},
     "output_type": "execute_result"
    }
   ],
   "source": [
    "testData.head()"
   ]
  },
  {
   "cell_type": "code",
   "execution_count": 4,
   "id": "53ccead7",
   "metadata": {
    "scrolled": true
   },
   "outputs": [
    {
     "data": {
      "text/html": [
       "<div>\n",
       "<style scoped>\n",
       "    .dataframe tbody tr th:only-of-type {\n",
       "        vertical-align: middle;\n",
       "    }\n",
       "\n",
       "    .dataframe tbody tr th {\n",
       "        vertical-align: top;\n",
       "    }\n",
       "\n",
       "    .dataframe thead th {\n",
       "        text-align: right;\n",
       "    }\n",
       "</style>\n",
       "<table border=\"1\" class=\"dataframe\">\n",
       "  <thead>\n",
       "    <tr style=\"text-align: right;\">\n",
       "      <th></th>\n",
       "      <th>Month</th>\n",
       "      <th>Location</th>\n",
       "      <th>MinTemp</th>\n",
       "      <th>MaxTemp</th>\n",
       "      <th>Rainfall</th>\n",
       "      <th>Evaporation</th>\n",
       "      <th>Sunshine</th>\n",
       "      <th>WindGustDir</th>\n",
       "      <th>WindGustSpeed</th>\n",
       "      <th>WindDir9am</th>\n",
       "      <th>WindDir3pm</th>\n",
       "      <th>WindSpeed9am</th>\n",
       "      <th>WindSpeed3pm</th>\n",
       "      <th>Humidity9am</th>\n",
       "      <th>Humidity3pm</th>\n",
       "      <th>Pressure3pm</th>\n",
       "      <th>Cloud9am</th>\n",
       "      <th>Cloud3pm</th>\n",
       "      <th>RainToday</th>\n",
       "      <th>RainTomorrow</th>\n",
       "    </tr>\n",
       "  </thead>\n",
       "  <tbody>\n",
       "    <tr>\n",
       "      <th>0</th>\n",
       "      <td>September</td>\n",
       "      <td>CoffsHarbour</td>\n",
       "      <td>0.573113</td>\n",
       "      <td>0.536862</td>\n",
       "      <td>0.001617</td>\n",
       "      <td>0.030345</td>\n",
       "      <td>0.158621</td>\n",
       "      <td>NNE</td>\n",
       "      <td>0.341085</td>\n",
       "      <td>N</td>\n",
       "      <td>NNE</td>\n",
       "      <td>0.069231</td>\n",
       "      <td>0.379310</td>\n",
       "      <td>0.64</td>\n",
       "      <td>0.77</td>\n",
       "      <td>0.592000</td>\n",
       "      <td>0.777778</td>\n",
       "      <td>0.777778</td>\n",
       "      <td>No</td>\n",
       "      <td>Yes</td>\n",
       "    </tr>\n",
       "    <tr>\n",
       "      <th>1</th>\n",
       "      <td>March</td>\n",
       "      <td>Dartmoor</td>\n",
       "      <td>0.386792</td>\n",
       "      <td>0.495274</td>\n",
       "      <td>0.000539</td>\n",
       "      <td>0.017931</td>\n",
       "      <td>0.710345</td>\n",
       "      <td>SW</td>\n",
       "      <td>0.224806</td>\n",
       "      <td>N</td>\n",
       "      <td>SSW</td>\n",
       "      <td>0.000000</td>\n",
       "      <td>0.218391</td>\n",
       "      <td>0.99</td>\n",
       "      <td>0.54</td>\n",
       "      <td>0.748800</td>\n",
       "      <td>0.493021</td>\n",
       "      <td>0.500352</td>\n",
       "      <td>No</td>\n",
       "      <td>No</td>\n",
       "    </tr>\n",
       "    <tr>\n",
       "      <th>2</th>\n",
       "      <td>February</td>\n",
       "      <td>Newcastle</td>\n",
       "      <td>0.634434</td>\n",
       "      <td>0.472590</td>\n",
       "      <td>0.087332</td>\n",
       "      <td>0.037723</td>\n",
       "      <td>0.525852</td>\n",
       "      <td>W</td>\n",
       "      <td>0.263444</td>\n",
       "      <td>SE</td>\n",
       "      <td>SE</td>\n",
       "      <td>0.084615</td>\n",
       "      <td>0.103448</td>\n",
       "      <td>0.98</td>\n",
       "      <td>0.94</td>\n",
       "      <td>0.610531</td>\n",
       "      <td>0.888889</td>\n",
       "      <td>0.888889</td>\n",
       "      <td>Yes</td>\n",
       "      <td>Yes</td>\n",
       "    </tr>\n",
       "    <tr>\n",
       "      <th>3</th>\n",
       "      <td>January</td>\n",
       "      <td>Albany</td>\n",
       "      <td>0.577830</td>\n",
       "      <td>0.508507</td>\n",
       "      <td>0.000000</td>\n",
       "      <td>0.038621</td>\n",
       "      <td>0.779310</td>\n",
       "      <td>W</td>\n",
       "      <td>0.263444</td>\n",
       "      <td>SE</td>\n",
       "      <td>ESE</td>\n",
       "      <td>0.115385</td>\n",
       "      <td>0.379310</td>\n",
       "      <td>0.56</td>\n",
       "      <td>0.61</td>\n",
       "      <td>0.588800</td>\n",
       "      <td>0.222222</td>\n",
       "      <td>0.111111</td>\n",
       "      <td>No</td>\n",
       "      <td>No</td>\n",
       "    </tr>\n",
       "    <tr>\n",
       "      <th>4</th>\n",
       "      <td>June</td>\n",
       "      <td>SalmonGums</td>\n",
       "      <td>0.320755</td>\n",
       "      <td>0.463138</td>\n",
       "      <td>0.000000</td>\n",
       "      <td>0.037723</td>\n",
       "      <td>0.525852</td>\n",
       "      <td>ENE</td>\n",
       "      <td>0.155039</td>\n",
       "      <td>N</td>\n",
       "      <td>NE</td>\n",
       "      <td>0.053846</td>\n",
       "      <td>0.080460</td>\n",
       "      <td>0.95</td>\n",
       "      <td>0.48</td>\n",
       "      <td>0.610531</td>\n",
       "      <td>0.493021</td>\n",
       "      <td>0.500352</td>\n",
       "      <td>No</td>\n",
       "      <td>No</td>\n",
       "    </tr>\n",
       "  </tbody>\n",
       "</table>\n",
       "</div>"
      ],
      "text/plain": [
       "       Month      Location   MinTemp   MaxTemp  Rainfall  Evaporation  \\\n",
       "0  September  CoffsHarbour  0.573113  0.536862  0.001617     0.030345   \n",
       "1      March      Dartmoor  0.386792  0.495274  0.000539     0.017931   \n",
       "2   February     Newcastle  0.634434  0.472590  0.087332     0.037723   \n",
       "3    January        Albany  0.577830  0.508507  0.000000     0.038621   \n",
       "4       June    SalmonGums  0.320755  0.463138  0.000000     0.037723   \n",
       "\n",
       "   Sunshine WindGustDir  WindGustSpeed WindDir9am WindDir3pm  WindSpeed9am  \\\n",
       "0  0.158621         NNE       0.341085          N        NNE      0.069231   \n",
       "1  0.710345          SW       0.224806          N        SSW      0.000000   \n",
       "2  0.525852           W       0.263444         SE         SE      0.084615   \n",
       "3  0.779310           W       0.263444         SE        ESE      0.115385   \n",
       "4  0.525852         ENE       0.155039          N         NE      0.053846   \n",
       "\n",
       "   WindSpeed3pm  Humidity9am  Humidity3pm  Pressure3pm  Cloud9am  Cloud3pm  \\\n",
       "0      0.379310         0.64         0.77     0.592000  0.777778  0.777778   \n",
       "1      0.218391         0.99         0.54     0.748800  0.493021  0.500352   \n",
       "2      0.103448         0.98         0.94     0.610531  0.888889  0.888889   \n",
       "3      0.379310         0.56         0.61     0.588800  0.222222  0.111111   \n",
       "4      0.080460         0.95         0.48     0.610531  0.493021  0.500352   \n",
       "\n",
       "  RainToday RainTomorrow  \n",
       "0        No          Yes  \n",
       "1        No           No  \n",
       "2       Yes          Yes  \n",
       "3        No           No  \n",
       "4        No           No  "
      ]
     },
     "execution_count": 4,
     "metadata": {},
     "output_type": "execute_result"
    }
   ],
   "source": [
    "trainData.head()"
   ]
  },
  {
   "cell_type": "code",
   "execution_count": 5,
   "id": "f71bb6d0",
   "metadata": {},
   "outputs": [],
   "source": [
    "testData = np.asarray(testData)\n",
    "trainData = np.asarray(trainData)"
   ]
  },
  {
   "cell_type": "code",
   "execution_count": 6,
   "id": "db24f791",
   "metadata": {
    "scrolled": true
   },
   "outputs": [
    {
     "data": {
      "text/plain": [
       "array([['February', 'MelbourneAirport', 0.625, ..., 0.5555555555555556,\n",
       "        'Yes', 'No'],\n",
       "       ['February', 'Adelaide', 0.6061320754716981, ...,\n",
       "        0.5003518777476168, 'No', 'No'],\n",
       "       ['July', 'Cairns', 0.6391509433962265, ..., 0.3333333333333333,\n",
       "        'Yes', 'No'],\n",
       "       ...,\n",
       "       ['September', 'SalmonGums', 0.1627358490566038, ...,\n",
       "        0.5003518777476168, 'No', 'No'],\n",
       "       ['January', 'NorfolkIsland', 0.6108490566037735, ...,\n",
       "        0.8888888888888888, 'No', 'Yes'],\n",
       "       ['January', 'Melbourne', 0.6367924528301887, ...,\n",
       "        0.5003518777476168, 'Yes', 'No']], dtype=object)"
      ]
     },
     "execution_count": 6,
     "metadata": {},
     "output_type": "execute_result"
    }
   ],
   "source": [
    "testData"
   ]
  },
  {
   "cell_type": "code",
   "execution_count": 7,
   "id": "190e61c9",
   "metadata": {},
   "outputs": [],
   "source": [
    "testData = np.delete(testData, 0, 1)\n",
    "testData = np.delete(testData, 0, 1)\n",
    "testData = np.delete(testData, 5, 1)\n",
    "testData = np.delete(testData, 6, 1)\n",
    "testData = np.delete(testData, 6, 1)\n",
    "testData = np.delete(testData, 13, 1)"
   ]
  },
  {
   "cell_type": "code",
   "execution_count": 8,
   "id": "164ec334",
   "metadata": {},
   "outputs": [
    {
     "data": {
      "text/plain": [
       "array([[0.625, 0.5992438563327032, 0.0576819407008086, ...,\n",
       "        0.8888888888888888, 0.5555555555555556, 'No'],\n",
       "       [0.6061320754716981, 0.5330812854442344, 0.0, ...,\n",
       "        0.4930210435428652, 0.5003518777476168, 'No'],\n",
       "       [0.6391509433962265, 0.5557655954631381, 0.0199460916442048, ...,\n",
       "        0.3333333333333333, 0.3333333333333333, 'No'],\n",
       "       ...,\n",
       "       [0.1627358490566038, 0.3780718336483932, 0.0, ...,\n",
       "        0.4930210435428652, 0.5003518777476168, 'No'],\n",
       "       [0.6108490566037735, 0.5293005671077505, 0.0, ...,\n",
       "        0.7777777777777778, 0.8888888888888888, 'Yes'],\n",
       "       [0.6367924528301887, 0.6483931947069943, 0.060377358490566, ...,\n",
       "        0.4930210435428652, 0.5003518777476168, 'No']], dtype=object)"
      ]
     },
     "execution_count": 8,
     "metadata": {},
     "output_type": "execute_result"
    }
   ],
   "source": [
    "testData"
   ]
  },
  {
   "cell_type": "code",
   "execution_count": 9,
   "id": "83c1839d",
   "metadata": {},
   "outputs": [],
   "source": [
    "trainData = np.delete(trainData, 0, 1)\n",
    "trainData = np.delete(trainData, 0, 1)\n",
    "trainData = np.delete(trainData, 5, 1)\n",
    "trainData = np.delete(trainData, 6, 1)\n",
    "trainData = np.delete(trainData, 6, 1)\n",
    "trainData = np.delete(trainData, 13, 1)"
   ]
  },
  {
   "cell_type": "code",
   "execution_count": 10,
   "id": "223df337",
   "metadata": {},
   "outputs": [
    {
     "data": {
      "text/plain": [
       "array([[0.5731132075471699, 0.5368620037807184, 0.0016172506738544, ...,\n",
       "        0.7777777777777778, 0.7777777777777778, 'Yes'],\n",
       "       [0.3867924528301886, 0.4952741020793951, 0.0005390835579514, ...,\n",
       "        0.4930210435428652, 0.5003518777476168, 'No'],\n",
       "       [0.6344339622641509, 0.4725897920604915, 0.0873315363881401, ...,\n",
       "        0.8888888888888888, 0.8888888888888888, 'Yes'],\n",
       "       ...,\n",
       "       [0.1839622641509434, 0.275992438563327, 0.0026954177897574, ...,\n",
       "        0.4930210435428652, 0.5003518777476168, 'Yes'],\n",
       "       [0.3490566037735849, 0.4763705103969754, 0.0, ...,\n",
       "        0.4930210435428652, 0.5003518777476168, 'No'],\n",
       "       [0.4481132075471698, 0.3724007561436673, 0.0043126684636118, ...,\n",
       "        0.4930210435428652, 0.5003518777476168, 'No']], dtype=object)"
      ]
     },
     "execution_count": 10,
     "metadata": {},
     "output_type": "execute_result"
    }
   ],
   "source": [
    "trainData"
   ]
  },
  {
   "cell_type": "code",
   "execution_count": 11,
   "id": "db904f0a",
   "metadata": {},
   "outputs": [],
   "source": [
    "testDataY = testData[:,-1]"
   ]
  },
  {
   "cell_type": "code",
   "execution_count": 12,
   "id": "a910fba2",
   "metadata": {},
   "outputs": [],
   "source": [
    "testDataX = testData[:,:-1]"
   ]
  },
  {
   "cell_type": "code",
   "execution_count": 13,
   "id": "72d5030b",
   "metadata": {},
   "outputs": [],
   "source": [
    "trainDataY = trainData[:,-1]"
   ]
  },
  {
   "cell_type": "code",
   "execution_count": 14,
   "id": "bba8e1c2",
   "metadata": {},
   "outputs": [],
   "source": [
    "trainDataX = trainData[:,:-1]"
   ]
  },
  {
   "cell_type": "code",
   "execution_count": 15,
   "id": "10122f41",
   "metadata": {},
   "outputs": [
    {
     "data": {
      "text/plain": [
       "KNeighborsClassifier(n_neighbors=50)"
      ]
     },
     "execution_count": 15,
     "metadata": {},
     "output_type": "execute_result"
    }
   ],
   "source": [
    "from sklearn.neighbors import KNeighborsClassifier\n",
    "knn = KNeighborsClassifier(n_neighbors = 50)\n",
    "knn.fit(trainDataX, trainDataY)"
   ]
  },
  {
   "cell_type": "code",
   "execution_count": 16,
   "id": "1d053493",
   "metadata": {},
   "outputs": [
    {
     "data": {
      "text/plain": [
       "0.8496729727828961"
      ]
     },
     "execution_count": 16,
     "metadata": {},
     "output_type": "execute_result"
    }
   ],
   "source": [
    "knn.score(testDataX, testDataY)"
   ]
  },
  {
   "cell_type": "code",
   "execution_count": 17,
   "id": "a520d4ed",
   "metadata": {},
   "outputs": [
    {
     "data": {
      "text/plain": [
       "array([[21338,   807],\n",
       "       [ 3468,  2825]], dtype=int64)"
      ]
     },
     "execution_count": 17,
     "metadata": {},
     "output_type": "execute_result"
    }
   ],
   "source": [
    "from sklearn.metrics import confusion_matrix\n",
    "dataYPred = knn.predict(testDataX)\n",
    "confusionMatrix = confusion_matrix(testDataY, dataYPred)\n",
    "confusionMatrix"
   ]
  },
  {
   "cell_type": "code",
   "execution_count": 18,
   "id": "10716b68",
   "metadata": {},
   "outputs": [
    {
     "name": "stdout",
     "output_type": "stream",
     "text": [
      "0.4489114889559828\n",
      "0.9635583653194852\n",
      "0.7778083700440529\n",
      "0.8496729727828961\n"
     ]
    }
   ],
   "source": [
    "sensitivity = 2825/(2825+3468)\n",
    "specificity = 21338/(21338+807)\n",
    "precision = 2825/(2825+807)\n",
    "accuracy = (2825+21338)/(2825+21338+3468+807)\n",
    "print(sensitivity)\n",
    "print(specificity)\n",
    "print(precision)\n",
    "print(accuracy)"
   ]
  },
  {
   "cell_type": "code",
   "execution_count": 19,
   "id": "3a03d761",
   "metadata": {},
   "outputs": [
    {
     "data": {
      "image/png": "[encoded data removed]",
      "text/plain": [
       "<Figure size 432x288 with 1 Axes>"
      ]
     },
     "metadata": {
      "needs_background": "light"
     },
     "output_type": "display_data"
    }
   ],
   "source": [
    "import matplotlib.pyplot as plt\n",
    "marker_size=15\n",
    "plt.scatter(testDataX[:,0], testDataX[:,1], marker_size, c=testDataX[:,2])\n",
    "plt.show()"
   ]
  },
  {
   "cell_type": "code",
   "execution_count": null,
   "id": "a4f7682d",
   "metadata": {},
   "outputs": [],
   "source": []
  },
  {
   "cell_type": "code",
   "execution_count": null,
   "id": "aa313062",
   "metadata": {},
   "outputs": [],
   "source": []
  },
  {
   "cell_type": "code",
   "execution_count": null,
   "id": "91c663b8",
   "metadata": {},
   "outputs": [],
   "source": []
  },
  {
   "cell_type": "code",
   "execution_count": null,
   "id": "3240c4cb",
   "metadata": {},
   "outputs": [],
   "source": []
  },
  {
   "cell_type": "code",
   "execution_count": null,
   "id": "dd349ccc",
   "metadata": {},
   "outputs": [],
   "source": []
  },
  {
   "cell_type": "code",
   "execution_count": null,
   "id": "da941a4c",
   "metadata": {},
   "outputs": [],
   "source": []
  }
 ],
 "metadata": {
  "kernelspec": {
   "display_name": "Python 3 (ipykernel)",
   "language": "python",
   "name": "python3"
  },
  "language_info": {
   "codemirror_mode": {
    "name": "ipython",
    "version": 3
   },
   "file_extension": ".py",
   "mimetype": "text/x-python",
   "name": "python",
   "nbconvert_exporter": "python",
   "pygments_lexer": "ipython3",
   "version": "3.9.7"
  }
 },
 "nbformat": 4,
 "nbformat_minor": 5
}
