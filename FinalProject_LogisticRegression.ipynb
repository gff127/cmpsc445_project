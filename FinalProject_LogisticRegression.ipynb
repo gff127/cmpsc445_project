{
  "nbformat": 4,
  "nbformat_minor": 0,
  "metadata": {
    "colab": {
      "name": "FinalProject_LogisticRegression.ipynb",
      "provenance": [],
      "collapsed_sections": []
    },
    "kernelspec": {
      "name": "python3",
      "display_name": "Python 3"
    },
    "language_info": {
      "name": "python"
    }
  },
  "cells": [
    {
      "cell_type": "code",
      "execution_count": 1,
      "metadata": {
        "id": "_RFf_z2H2Mf4"
      },
      "outputs": [],
      "source": [
        "#initialize data and format dataframes into variables representing input/output\n",
        "import pandas as pd\n",
        "import numpy as np\n",
        "import sklearn as sklearn\n",
        "import matplotlib.pyplot as plt\n",
        "\n",
        "data_train = pd.read_csv('/content/drive/MyDrive/Colab Notebooks/train_new.csv', header=0, sep=',')\n",
        "data_test = pd.read_csv('/content/drive/MyDrive/Colab Notebooks/test_new.csv', header=0, sep=',')\n",
        "\n",
        "feature_cols = ['MinTemp','MaxTemp','Rainfall','Evaporation','Sunshine','WindGustSpeed',\n",
        "                'WindSpeed9am','WindSpeed3pm','Humidity9am','Humidity3pm','Pressure3pm',\n",
        "                'Cloud9am','Cloud3pm']\n",
        "output_col = 'RainTomorrow'\n",
        "\n",
        "X = data_train.loc[:, feature_cols]\n",
        "y = data_train.RainTomorrow\n",
        "\n",
        "X_test = data_test.loc[:, feature_cols]\n",
        "y_test = data_test.RainTomorrow"
      ]
    },
    {
      "cell_type": "code",
      "source": [
        "# functions for logistic regression by sigmoid gradient descent\n",
        "from numpy.ma.core import exp\n",
        "# formats input attributes and adds a row of 1 which corresponds to x_0\n",
        "def generateXvector(X):\n",
        "  vectorX = np.c_[np.ones((len(X), 1)), X]\n",
        "  return vectorX\n",
        "# initializes weights as arbitrary numbers\n",
        "def theta_init(X):\n",
        "  theta = np.random.randn(len(X[0])+1, 1)\n",
        "  return theta\n",
        "# sigmoid function itself\n",
        "def sigmoid_function(X):\n",
        "  return 1/(1+exp(-X))\n",
        "# logistic regression itself\n",
        "def Logistics_Regression(X,y,learningrate, iterations):\n",
        "  y_new = np.reshape(y, (len(y), 1))   \n",
        "  cost_lst = []\n",
        "  vectorX = generateXvector(X)\n",
        "  theta = theta_init(X)\n",
        "  m = len(X)\n",
        "  for i in range(iterations):\n",
        "    gradients = 2/m * vectorX.T.dot(sigmoid_function(vectorX.dot(theta)) - y_new)\n",
        "    theta = theta - learningrate * gradients\n",
        "    y_pred = sigmoid_function(vectorX.dot(theta))\n",
        "    cost_value = - np.sum(np.dot(y_new.T,np.log(y_pred)+ np.dot((1-y_new).T,np.log(1-y_pred)))) /(len(y_pred))\n",
        "    #Calculate the loss for each training instance\n",
        "    cost_lst.append(cost_value)\n",
        "  plt.plot(np.arange(1,iterations),cost_lst[1:], color = 'red')\n",
        "  plt.title('Cost function Graph')\n",
        "  plt.xlabel('Number of iterations')\n",
        "  plt.ylabel('Cost')\n",
        "  return theta"
      ],
      "metadata": {
        "id": "PrC2bZsF9-Gr"
      },
      "execution_count": 3,
      "outputs": []
    },
    {
      "cell_type": "code",
      "source": [
        "Logistics_Regression(X.to_numpy(),y.to_numpy(), 1, 1000)"
      ],
      "metadata": {
        "colab": {
          "base_uri": "https://localhost:8080/",
          "height": 603
        },
        "id": "ibFxQJaQ-Tua",
        "outputId": "307c4b46-2818-4545-ead6-1cf6a60cf99e"
      },
      "execution_count": null,
      "outputs": [
        {
          "output_type": "execute_result",
          "data": {
            "text/plain": [
              "masked_array(\n",
              "  data=[[-2.07486788],\n",
              "        [ 1.13284167],\n",
              "        [-1.28791521],\n",
              "        [ 1.05866744],\n",
              "        [-0.80688201],\n",
              "        [-1.79389617],\n",
              "        [ 4.48016175],\n",
              "        [-0.46635743],\n",
              "        [-0.90867868],\n",
              "        [ 0.82794888],\n",
              "        [ 4.77832902],\n",
              "        [-5.05440358],\n",
              "        [-0.10451477],\n",
              "        [ 1.10791054]],\n",
              "  mask=False,\n",
              "  fill_value=1e+20)"
            ]
          },
          "metadata": {},
          "execution_count": 4
        },
        {
          "output_type": "display_data",
          "data": {
            "text/plain": [
              "<Figure size 432x288 with 1 Axes>"
            ],
            "image/png": "[encoded data removed]"
          },
          "metadata": {
            "needs_background": "light"
          }
        }
      ]
    },
    {
      "cell_type": "code",
      "source": [
        "#Testing Accuracy\n",
        "#X_test = data_test.loc[:, feature_cols]\n",
        "#y_test = data_test.RainTomorrow\n",
        "def column(matrix, i):\n",
        "    return [row[i] for row in matrix]\n",
        "\n",
        "def pred_y(X,y,learningrate, iteration,X_test, y_test):\n",
        "    ideal = Logistics_Regression(X,y,learningrate, iteration)\n",
        "    hypo_line = ideal[0]\n",
        "    for i in range(1,len(ideal)):\n",
        "        hypo_line = hypo_line + ideal[i]*column(X_test,i-1)\n",
        "    logistic_function = sigmoid_function(hypo_line)\n",
        "    for i in range(len(logistic_function)):\n",
        "        if logistic_function[i] >= 0.5:\n",
        "            logistic_function[i] = 1\n",
        "        else:\n",
        "            logistic_function[i] = 0\n",
        "    last1 = np.concatenate((logistic_function.reshape(len(logistic_function),1), y_test.reshape(len(y_test),1)),1)\n",
        "    return last1\n",
        "\n",
        "data_cmat = pred_y(X.to_numpy(),y.to_numpy(), 1, 1000, X_test.to_numpy(), y_test.to_numpy())"
      ],
      "metadata": {
        "colab": {
          "base_uri": "https://localhost:8080/",
          "height": 295
        },
        "id": "HxoMPp8Z3RGk",
        "outputId": "3eb66a0e-9aee-4c1a-8afa-ec0e1de33354"
      },
      "execution_count": 4,
      "outputs": [
        {
          "output_type": "display_data",
          "data": {
            "text/plain": [
              "<Figure size 432x288 with 1 Axes>"
            ],
            "image/png": "[encoded data removed]"
          },
          "metadata": {
            "needs_background": "light"
          }
        }
      ]
    },
    {
      "cell_type": "code",
      "source": [
        "display(data_cmat)\n",
        "data_cmat_format = {'y_Actual': data_cmat[:,0],\n",
        "        'y_Predicted': data_cmat[:,1]\n",
        "        }\n",
        "\n",
        "df = pd.DataFrame(data_cmat_format, columns=['y_Actual','y_Predicted'])\n",
        "\n",
        "confusion_matrix = pd.crosstab(df['y_Actual'], df['y_Predicted'], rownames=['Actual'], colnames=['Predicted'])\n",
        "print (confusion_matrix)\n",
        "TN = confusion_matrix [0][0]\n",
        "FP = confusion_matrix [1][0]\n",
        "FN = confusion_matrix [0][1]\n",
        "TP = confusion_matrix [1][1]\n",
        "sens = TP/(TP+FN)\n",
        "spec = TN/(TN+FP)\n",
        "prec = TP/(TP+FP)\n",
        "accu = (TP+TN)/(TP+TN+FP+FN)\n",
        "\n",
        "print('accuracy = ', accu)\n",
        "print('percision = ', prec)\n",
        "print('specificity = ', spec)\n",
        "print('sensitivity = ', sens)"
      ],
      "metadata": {
        "colab": {
          "base_uri": "https://localhost:8080/",
          "height": 344
        },
        "id": "2SB3wnuW5kmR",
        "outputId": "9719a5fe-5cdc-4b04-c9d9-6462d8a6a0c1"
      },
      "execution_count": 17,
      "outputs": [
        {
          "output_type": "display_data",
          "data": {
            "text/plain": [
              "masked_array(\n",
              "  data=[[0., 0.],\n",
              "        [0., 0.],\n",
              "        [0., 0.],\n",
              "        ...,\n",
              "        [0., 0.],\n",
              "        [1., 1.],\n",
              "        [0., 0.]],\n",
              "  mask=False,\n",
              "  fill_value=1e+20)"
            ]
          },
          "metadata": {}
        },
        {
          "output_type": "stream",
          "name": "stdout",
          "text": [
            "Predicted    0.0   1.0\n",
            "Actual                \n",
            "0.0        20892  3237\n",
            "1.0         1253  3056\n",
            "accuracy =  0.8421126661509248\n",
            "percision =  0.4856189416812331\n",
            "specificity =  0.865846077334328\n",
            "sensitivity =  0.709213274541657\n"
          ]
        }
      ]
    },
    {
      "cell_type": "code",
      "source": [
        "from sklearn.linear_model import LogisticRegression\n",
        "\n",
        "# Number of iterations\n",
        "iter  = 1000\n",
        "# Execute Logistical Regression with sigmoid gradient descent\n",
        "logReg = LogisticRegression(max_iter = iter).fit(X,y)\n",
        "# Display the weights of each variable\n",
        "weights = logReg.coef_[0]\n",
        "w0 = logReg.intercept_[0]\n",
        "display(w0)\n",
        "display(weights)\n",
        "\n",
        "predictions = logReg.predict(X_test)\n",
        "display(y_test.to_numpy())\n",
        "display(predictions)\n",
        "\n",
        "c_mat = sklearn.metrics.confusion_matrix(y_test.to_numpy(), predictions, labels=None, sample_weight=None, normalize=None)\n",
        "display(c_mat)\n",
        "\n",
        "TN, FP, FN, TP = sklearn.metrics.confusion_matrix(y_test.to_numpy(), predictions, labels=None, sample_weight=None, normalize=None).ravel()\n",
        "\n",
        "sens = TP/(TP+FN)\n",
        "spec = TN/(TN+FP)\n",
        "prec = TP/(TP+FP)\n",
        "accu = (TP+TN)/(TP+TN+FP+FN)\n",
        "\n",
        "print('accuracy = ', accu)\n",
        "print('percision = ', prec)\n",
        "print('specificity = ', spec)\n",
        "print('sensitivity = ', sens)\n",
        "\n",
        "#from sklearn.metrics import classification_report\n",
        "#print(classification_report(y_test, predictions))\n"
      ],
      "metadata": {
        "colab": {
          "base_uri": "https://localhost:8080/",
          "height": 235
        },
        "id": "cZz31jYZUSpn",
        "outputId": "4b61b089-c1e0-450e-c2c8-54c91adc3b8f"
      },
      "execution_count": 16,
      "outputs": [
        {
          "output_type": "display_data",
          "data": {
            "text/plain": [
              "-3.3349664629235307"
            ]
          },
          "metadata": {}
        },
        {
          "output_type": "display_data",
          "data": {
            "text/plain": [
              "array([ 0.31623324,  0.11525926,  6.5344443 , -1.12512459, -1.69564101,\n",
              "        6.40424006, -1.43287889, -1.96180857,  0.77026848,  5.182464  ,\n",
              "       -4.35211596, -0.01958284,  1.13980398])"
            ]
          },
          "metadata": {}
        },
        {
          "output_type": "display_data",
          "data": {
            "text/plain": [
              "array([0, 0, 0, ..., 0, 1, 0])"
            ]
          },
          "metadata": {}
        },
        {
          "output_type": "display_data",
          "data": {
            "text/plain": [
              "array([0, 0, 0, ..., 0, 1, 0])"
            ]
          },
          "metadata": {}
        },
        {
          "output_type": "display_data",
          "data": {
            "text/plain": [
              "array([[20895,  1250],\n",
              "       [ 3206,  3087]])"
            ]
          },
          "metadata": {}
        },
        {
          "output_type": "stream",
          "name": "stdout",
          "text": [
            "accuracy =  0.843308249525283\n",
            "percision =  0.711782338021674\n",
            "specificity =  0.9435538496274554\n",
            "sensitivity =  0.4905450500556173\n"
          ]
        }
      ]
    }
  ]
}